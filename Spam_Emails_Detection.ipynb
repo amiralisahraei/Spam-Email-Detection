{
  "nbformat": 4,
  "nbformat_minor": 0,
  "metadata": {
    "colab": {
      "name": "spam_emails.ipynb",
      "provenance": [],
      "collapsed_sections": []
    },
    "kernelspec": {
      "name": "python3",
      "display_name": "Python 3"
    }
  },
  "cells": [
    {
      "cell_type": "markdown",
      "metadata": {
        "id": "JkXfNKKHf_rb"
      },
      "source": [
        "Import the libraries and the Dataset"
      ]
    },
    {
      "cell_type": "code",
      "metadata": {
        "id": "QAZki1TaHAHu",
        "colab": {
          "base_uri": "https://localhost:8080/",
          "height": 378
        },
        "outputId": "6b510279-eef0-469e-ecab-5eb194a0a235"
      },
      "source": [
        "import pandas as pd \n",
        "import numpy as np \n",
        "\n",
        "data = pd.read_csv('emails.csv')  \n",
        "print(\"Data shape - \", data.shape, \"\\n\") \n",
        "\n",
        "# show part of the dataset\n",
        "data.head()\n"
      ],
      "execution_count": null,
      "outputs": [
        {
          "output_type": "stream",
          "text": [
            "Data shape -  (171, 3002) \n",
            "\n"
          ],
          "name": "stdout"
        },
        {
          "output_type": "execute_result",
          "data": {
            "text/html": [
              "<div>\n",
              "<style scoped>\n",
              "    .dataframe tbody tr th:only-of-type {\n",
              "        vertical-align: middle;\n",
              "    }\n",
              "\n",
              "    .dataframe tbody tr th {\n",
              "        vertical-align: top;\n",
              "    }\n",
              "\n",
              "    .dataframe thead th {\n",
              "        text-align: right;\n",
              "    }\n",
              "</style>\n",
              "<table border=\"1\" class=\"dataframe\">\n",
              "  <thead>\n",
              "    <tr style=\"text-align: right;\">\n",
              "      <th></th>\n",
              "      <th>Email No.</th>\n",
              "      <th>the</th>\n",
              "      <th>to</th>\n",
              "      <th>ect</th>\n",
              "      <th>and</th>\n",
              "      <th>for</th>\n",
              "      <th>of</th>\n",
              "      <th>a</th>\n",
              "      <th>you</th>\n",
              "      <th>hou</th>\n",
              "      <th>in</th>\n",
              "      <th>on</th>\n",
              "      <th>is</th>\n",
              "      <th>this</th>\n",
              "      <th>enron</th>\n",
              "      <th>i</th>\n",
              "      <th>be</th>\n",
              "      <th>that</th>\n",
              "      <th>will</th>\n",
              "      <th>have</th>\n",
              "      <th>with</th>\n",
              "      <th>your</th>\n",
              "      <th>at</th>\n",
              "      <th>we</th>\n",
              "      <th>s</th>\n",
              "      <th>are</th>\n",
              "      <th>it</th>\n",
              "      <th>by</th>\n",
              "      <th>com</th>\n",
              "      <th>as</th>\n",
              "      <th>from</th>\n",
              "      <th>gas</th>\n",
              "      <th>or</th>\n",
              "      <th>not</th>\n",
              "      <th>me</th>\n",
              "      <th>deal</th>\n",
              "      <th>if</th>\n",
              "      <th>meter</th>\n",
              "      <th>hpl</th>\n",
              "      <th>please</th>\n",
              "      <th>...</th>\n",
              "      <th>bold</th>\n",
              "      <th>catch</th>\n",
              "      <th>performing</th>\n",
              "      <th>accepted</th>\n",
              "      <th>matters</th>\n",
              "      <th>batch</th>\n",
              "      <th>continuing</th>\n",
              "      <th>winning</th>\n",
              "      <th>symbol</th>\n",
              "      <th>offsystem</th>\n",
              "      <th>decisions</th>\n",
              "      <th>produced</th>\n",
              "      <th>ended</th>\n",
              "      <th>greatest</th>\n",
              "      <th>degree</th>\n",
              "      <th>solmonson</th>\n",
              "      <th>imbalances</th>\n",
              "      <th>fall</th>\n",
              "      <th>fear</th>\n",
              "      <th>hate</th>\n",
              "      <th>fight</th>\n",
              "      <th>reallocated</th>\n",
              "      <th>debt</th>\n",
              "      <th>reform</th>\n",
              "      <th>australia</th>\n",
              "      <th>plain</th>\n",
              "      <th>prompt</th>\n",
              "      <th>remains</th>\n",
              "      <th>ifhsc</th>\n",
              "      <th>enhancements</th>\n",
              "      <th>connevey</th>\n",
              "      <th>jay</th>\n",
              "      <th>valued</th>\n",
              "      <th>lay</th>\n",
              "      <th>infrastructure</th>\n",
              "      <th>military</th>\n",
              "      <th>allowing</th>\n",
              "      <th>ff</th>\n",
              "      <th>dry</th>\n",
              "      <th>Prediction</th>\n",
              "    </tr>\n",
              "  </thead>\n",
              "  <tbody>\n",
              "    <tr>\n",
              "      <th>0</th>\n",
              "      <td>Email 1</td>\n",
              "      <td>0</td>\n",
              "      <td>0</td>\n",
              "      <td>1</td>\n",
              "      <td>0</td>\n",
              "      <td>0</td>\n",
              "      <td>0</td>\n",
              "      <td>2</td>\n",
              "      <td>0</td>\n",
              "      <td>0</td>\n",
              "      <td>0</td>\n",
              "      <td>0</td>\n",
              "      <td>1</td>\n",
              "      <td>0</td>\n",
              "      <td>0</td>\n",
              "      <td>2</td>\n",
              "      <td>0</td>\n",
              "      <td>0</td>\n",
              "      <td>0</td>\n",
              "      <td>0</td>\n",
              "      <td>0</td>\n",
              "      <td>0</td>\n",
              "      <td>0</td>\n",
              "      <td>0</td>\n",
              "      <td>3</td>\n",
              "      <td>0</td>\n",
              "      <td>0</td>\n",
              "      <td>0</td>\n",
              "      <td>0</td>\n",
              "      <td>1</td>\n",
              "      <td>0</td>\n",
              "      <td>0</td>\n",
              "      <td>0</td>\n",
              "      <td>0</td>\n",
              "      <td>0</td>\n",
              "      <td>0</td>\n",
              "      <td>0</td>\n",
              "      <td>0</td>\n",
              "      <td>0</td>\n",
              "      <td>0</td>\n",
              "      <td>...</td>\n",
              "      <td>0.0</td>\n",
              "      <td>0.0</td>\n",
              "      <td>0.0</td>\n",
              "      <td>0.0</td>\n",
              "      <td>0.0</td>\n",
              "      <td>0.0</td>\n",
              "      <td>0.0</td>\n",
              "      <td>0.0</td>\n",
              "      <td>0.0</td>\n",
              "      <td>0.0</td>\n",
              "      <td>0.0</td>\n",
              "      <td>0.0</td>\n",
              "      <td>0.0</td>\n",
              "      <td>0.0</td>\n",
              "      <td>0.0</td>\n",
              "      <td>0.0</td>\n",
              "      <td>0.0</td>\n",
              "      <td>0.0</td>\n",
              "      <td>0.0</td>\n",
              "      <td>0.0</td>\n",
              "      <td>0.0</td>\n",
              "      <td>0.0</td>\n",
              "      <td>0.0</td>\n",
              "      <td>0.0</td>\n",
              "      <td>0.0</td>\n",
              "      <td>0.0</td>\n",
              "      <td>0.0</td>\n",
              "      <td>0.0</td>\n",
              "      <td>0.0</td>\n",
              "      <td>0.0</td>\n",
              "      <td>0.0</td>\n",
              "      <td>0.0</td>\n",
              "      <td>0.0</td>\n",
              "      <td>0.0</td>\n",
              "      <td>0.0</td>\n",
              "      <td>0.0</td>\n",
              "      <td>0.0</td>\n",
              "      <td>0.0</td>\n",
              "      <td>0.0</td>\n",
              "      <td>0.0</td>\n",
              "    </tr>\n",
              "    <tr>\n",
              "      <th>1</th>\n",
              "      <td>Email 2</td>\n",
              "      <td>8</td>\n",
              "      <td>13</td>\n",
              "      <td>24</td>\n",
              "      <td>6</td>\n",
              "      <td>6</td>\n",
              "      <td>2</td>\n",
              "      <td>102</td>\n",
              "      <td>1</td>\n",
              "      <td>27</td>\n",
              "      <td>18</td>\n",
              "      <td>21</td>\n",
              "      <td>13</td>\n",
              "      <td>0</td>\n",
              "      <td>1</td>\n",
              "      <td>61</td>\n",
              "      <td>4</td>\n",
              "      <td>2</td>\n",
              "      <td>0</td>\n",
              "      <td>0</td>\n",
              "      <td>2</td>\n",
              "      <td>0</td>\n",
              "      <td>12</td>\n",
              "      <td>9</td>\n",
              "      <td>95</td>\n",
              "      <td>4</td>\n",
              "      <td>3</td>\n",
              "      <td>3</td>\n",
              "      <td>3</td>\n",
              "      <td>12</td>\n",
              "      <td>3</td>\n",
              "      <td>1</td>\n",
              "      <td>21</td>\n",
              "      <td>1</td>\n",
              "      <td>12</td>\n",
              "      <td>0</td>\n",
              "      <td>1</td>\n",
              "      <td>0</td>\n",
              "      <td>0</td>\n",
              "      <td>2</td>\n",
              "      <td>...</td>\n",
              "      <td>0.0</td>\n",
              "      <td>0.0</td>\n",
              "      <td>0.0</td>\n",
              "      <td>0.0</td>\n",
              "      <td>0.0</td>\n",
              "      <td>0.0</td>\n",
              "      <td>0.0</td>\n",
              "      <td>0.0</td>\n",
              "      <td>0.0</td>\n",
              "      <td>0.0</td>\n",
              "      <td>0.0</td>\n",
              "      <td>0.0</td>\n",
              "      <td>0.0</td>\n",
              "      <td>0.0</td>\n",
              "      <td>0.0</td>\n",
              "      <td>0.0</td>\n",
              "      <td>0.0</td>\n",
              "      <td>0.0</td>\n",
              "      <td>0.0</td>\n",
              "      <td>0.0</td>\n",
              "      <td>0.0</td>\n",
              "      <td>0.0</td>\n",
              "      <td>0.0</td>\n",
              "      <td>0.0</td>\n",
              "      <td>0.0</td>\n",
              "      <td>0.0</td>\n",
              "      <td>0.0</td>\n",
              "      <td>0.0</td>\n",
              "      <td>0.0</td>\n",
              "      <td>0.0</td>\n",
              "      <td>0.0</td>\n",
              "      <td>0.0</td>\n",
              "      <td>0.0</td>\n",
              "      <td>0.0</td>\n",
              "      <td>0.0</td>\n",
              "      <td>0.0</td>\n",
              "      <td>0.0</td>\n",
              "      <td>1.0</td>\n",
              "      <td>0.0</td>\n",
              "      <td>0.0</td>\n",
              "    </tr>\n",
              "    <tr>\n",
              "      <th>2</th>\n",
              "      <td>Email 3</td>\n",
              "      <td>0</td>\n",
              "      <td>0</td>\n",
              "      <td>1</td>\n",
              "      <td>0</td>\n",
              "      <td>0</td>\n",
              "      <td>0</td>\n",
              "      <td>8</td>\n",
              "      <td>0</td>\n",
              "      <td>0</td>\n",
              "      <td>4</td>\n",
              "      <td>2</td>\n",
              "      <td>0</td>\n",
              "      <td>0</td>\n",
              "      <td>0</td>\n",
              "      <td>8</td>\n",
              "      <td>0</td>\n",
              "      <td>0</td>\n",
              "      <td>0</td>\n",
              "      <td>0</td>\n",
              "      <td>0</td>\n",
              "      <td>0</td>\n",
              "      <td>2</td>\n",
              "      <td>0</td>\n",
              "      <td>2</td>\n",
              "      <td>0</td>\n",
              "      <td>0</td>\n",
              "      <td>0</td>\n",
              "      <td>0</td>\n",
              "      <td>2</td>\n",
              "      <td>0</td>\n",
              "      <td>2</td>\n",
              "      <td>0</td>\n",
              "      <td>0</td>\n",
              "      <td>0</td>\n",
              "      <td>0</td>\n",
              "      <td>0</td>\n",
              "      <td>0</td>\n",
              "      <td>0</td>\n",
              "      <td>0</td>\n",
              "      <td>...</td>\n",
              "      <td>0.0</td>\n",
              "      <td>0.0</td>\n",
              "      <td>0.0</td>\n",
              "      <td>0.0</td>\n",
              "      <td>0.0</td>\n",
              "      <td>0.0</td>\n",
              "      <td>0.0</td>\n",
              "      <td>0.0</td>\n",
              "      <td>0.0</td>\n",
              "      <td>0.0</td>\n",
              "      <td>0.0</td>\n",
              "      <td>0.0</td>\n",
              "      <td>0.0</td>\n",
              "      <td>0.0</td>\n",
              "      <td>0.0</td>\n",
              "      <td>0.0</td>\n",
              "      <td>0.0</td>\n",
              "      <td>0.0</td>\n",
              "      <td>0.0</td>\n",
              "      <td>0.0</td>\n",
              "      <td>0.0</td>\n",
              "      <td>0.0</td>\n",
              "      <td>0.0</td>\n",
              "      <td>0.0</td>\n",
              "      <td>0.0</td>\n",
              "      <td>0.0</td>\n",
              "      <td>0.0</td>\n",
              "      <td>0.0</td>\n",
              "      <td>0.0</td>\n",
              "      <td>0.0</td>\n",
              "      <td>0.0</td>\n",
              "      <td>0.0</td>\n",
              "      <td>0.0</td>\n",
              "      <td>0.0</td>\n",
              "      <td>0.0</td>\n",
              "      <td>0.0</td>\n",
              "      <td>0.0</td>\n",
              "      <td>0.0</td>\n",
              "      <td>0.0</td>\n",
              "      <td>0.0</td>\n",
              "    </tr>\n",
              "    <tr>\n",
              "      <th>3</th>\n",
              "      <td>Email 4</td>\n",
              "      <td>0</td>\n",
              "      <td>5</td>\n",
              "      <td>22</td>\n",
              "      <td>0</td>\n",
              "      <td>5</td>\n",
              "      <td>1</td>\n",
              "      <td>51</td>\n",
              "      <td>2</td>\n",
              "      <td>10</td>\n",
              "      <td>1</td>\n",
              "      <td>5</td>\n",
              "      <td>9</td>\n",
              "      <td>2</td>\n",
              "      <td>0</td>\n",
              "      <td>16</td>\n",
              "      <td>2</td>\n",
              "      <td>0</td>\n",
              "      <td>0</td>\n",
              "      <td>1</td>\n",
              "      <td>1</td>\n",
              "      <td>0</td>\n",
              "      <td>2</td>\n",
              "      <td>1</td>\n",
              "      <td>36</td>\n",
              "      <td>3</td>\n",
              "      <td>1</td>\n",
              "      <td>2</td>\n",
              "      <td>0</td>\n",
              "      <td>2</td>\n",
              "      <td>3</td>\n",
              "      <td>0</td>\n",
              "      <td>10</td>\n",
              "      <td>2</td>\n",
              "      <td>5</td>\n",
              "      <td>2</td>\n",
              "      <td>0</td>\n",
              "      <td>1</td>\n",
              "      <td>0</td>\n",
              "      <td>0</td>\n",
              "      <td>...</td>\n",
              "      <td>0.0</td>\n",
              "      <td>0.0</td>\n",
              "      <td>0.0</td>\n",
              "      <td>0.0</td>\n",
              "      <td>0.0</td>\n",
              "      <td>0.0</td>\n",
              "      <td>0.0</td>\n",
              "      <td>0.0</td>\n",
              "      <td>0.0</td>\n",
              "      <td>0.0</td>\n",
              "      <td>0.0</td>\n",
              "      <td>0.0</td>\n",
              "      <td>0.0</td>\n",
              "      <td>0.0</td>\n",
              "      <td>0.0</td>\n",
              "      <td>0.0</td>\n",
              "      <td>0.0</td>\n",
              "      <td>0.0</td>\n",
              "      <td>0.0</td>\n",
              "      <td>0.0</td>\n",
              "      <td>0.0</td>\n",
              "      <td>0.0</td>\n",
              "      <td>0.0</td>\n",
              "      <td>0.0</td>\n",
              "      <td>0.0</td>\n",
              "      <td>0.0</td>\n",
              "      <td>0.0</td>\n",
              "      <td>0.0</td>\n",
              "      <td>0.0</td>\n",
              "      <td>0.0</td>\n",
              "      <td>0.0</td>\n",
              "      <td>0.0</td>\n",
              "      <td>0.0</td>\n",
              "      <td>0.0</td>\n",
              "      <td>0.0</td>\n",
              "      <td>0.0</td>\n",
              "      <td>0.0</td>\n",
              "      <td>0.0</td>\n",
              "      <td>0.0</td>\n",
              "      <td>0.0</td>\n",
              "    </tr>\n",
              "    <tr>\n",
              "      <th>4</th>\n",
              "      <td>Email 5</td>\n",
              "      <td>7</td>\n",
              "      <td>6</td>\n",
              "      <td>17</td>\n",
              "      <td>1</td>\n",
              "      <td>5</td>\n",
              "      <td>2</td>\n",
              "      <td>57</td>\n",
              "      <td>0</td>\n",
              "      <td>9</td>\n",
              "      <td>3</td>\n",
              "      <td>12</td>\n",
              "      <td>2</td>\n",
              "      <td>2</td>\n",
              "      <td>0</td>\n",
              "      <td>30</td>\n",
              "      <td>8</td>\n",
              "      <td>0</td>\n",
              "      <td>0</td>\n",
              "      <td>2</td>\n",
              "      <td>0</td>\n",
              "      <td>0</td>\n",
              "      <td>7</td>\n",
              "      <td>0</td>\n",
              "      <td>19</td>\n",
              "      <td>2</td>\n",
              "      <td>4</td>\n",
              "      <td>2</td>\n",
              "      <td>0</td>\n",
              "      <td>4</td>\n",
              "      <td>1</td>\n",
              "      <td>2</td>\n",
              "      <td>6</td>\n",
              "      <td>0</td>\n",
              "      <td>6</td>\n",
              "      <td>0</td>\n",
              "      <td>0</td>\n",
              "      <td>3</td>\n",
              "      <td>0</td>\n",
              "      <td>1</td>\n",
              "      <td>...</td>\n",
              "      <td>0.0</td>\n",
              "      <td>0.0</td>\n",
              "      <td>0.0</td>\n",
              "      <td>0.0</td>\n",
              "      <td>0.0</td>\n",
              "      <td>0.0</td>\n",
              "      <td>0.0</td>\n",
              "      <td>0.0</td>\n",
              "      <td>0.0</td>\n",
              "      <td>0.0</td>\n",
              "      <td>0.0</td>\n",
              "      <td>0.0</td>\n",
              "      <td>0.0</td>\n",
              "      <td>0.0</td>\n",
              "      <td>0.0</td>\n",
              "      <td>0.0</td>\n",
              "      <td>0.0</td>\n",
              "      <td>0.0</td>\n",
              "      <td>0.0</td>\n",
              "      <td>0.0</td>\n",
              "      <td>0.0</td>\n",
              "      <td>0.0</td>\n",
              "      <td>0.0</td>\n",
              "      <td>0.0</td>\n",
              "      <td>0.0</td>\n",
              "      <td>0.0</td>\n",
              "      <td>0.0</td>\n",
              "      <td>0.0</td>\n",
              "      <td>0.0</td>\n",
              "      <td>0.0</td>\n",
              "      <td>0.0</td>\n",
              "      <td>0.0</td>\n",
              "      <td>0.0</td>\n",
              "      <td>0.0</td>\n",
              "      <td>0.0</td>\n",
              "      <td>0.0</td>\n",
              "      <td>0.0</td>\n",
              "      <td>1.0</td>\n",
              "      <td>0.0</td>\n",
              "      <td>0.0</td>\n",
              "    </tr>\n",
              "  </tbody>\n",
              "</table>\n",
              "<p>5 rows × 3002 columns</p>\n",
              "</div>"
            ],
            "text/plain": [
              "  Email No.  the  to  ect  and  ...  military  allowing   ff  dry  Prediction\n",
              "0   Email 1    0   0    1    0  ...       0.0       0.0  0.0  0.0         0.0\n",
              "1   Email 2    8  13   24    6  ...       0.0       0.0  1.0  0.0         0.0\n",
              "2   Email 3    0   0    1    0  ...       0.0       0.0  0.0  0.0         0.0\n",
              "3   Email 4    0   5   22    0  ...       0.0       0.0  0.0  0.0         0.0\n",
              "4   Email 5    7   6   17    1  ...       0.0       0.0  1.0  0.0         0.0\n",
              "\n",
              "[5 rows x 3002 columns]"
            ]
          },
          "metadata": {
            "tags": []
          },
          "execution_count": 1
        }
      ]
    },
    {
      "cell_type": "markdown",
      "metadata": {
        "id": "IIxRJQaAoF9E"
      },
      "source": [
        "Use the prediction column to find the spams and hams indexes"
      ]
    },
    {
      "cell_type": "code",
      "metadata": {
        "colab": {
          "base_uri": "https://localhost:8080/"
        },
        "id": "yVfBLdQ7gtiC",
        "outputId": "50b5b5e6-a998-403f-ccef-87bfdffe847a"
      },
      "source": [
        "main_data = np.array(data)\n",
        "print(f\"The lnegth of main dataset is : {len(main_data)}\")\n",
        "\n",
        "column_prediction = [row[-1] for row in main_data]\n",
        "column_prediction = np.array(column_prediction)\n",
        "\n",
        "spam_indexes = np.nonzero(column_prediction)[0]\n",
        "\n",
        "ham_indexes = np.where(column_prediction == 0)[0]\n",
        "\n",
        "len(spam_indexes) , len(ham_indexes)"
      ],
      "execution_count": null,
      "outputs": [
        {
          "output_type": "stream",
          "text": [
            "The lnegth of main dataset is : 5172\n"
          ],
          "name": "stdout"
        },
        {
          "output_type": "execute_result",
          "data": {
            "text/plain": [
              "(1500, 3672)"
            ]
          },
          "metadata": {
            "tags": []
          },
          "execution_count": 55
        }
      ]
    },
    {
      "cell_type": "markdown",
      "metadata": {
        "id": "PxJHj-R2p0F0"
      },
      "source": [
        "Define the rows of the spams and hams emails"
      ]
    },
    {
      "cell_type": "code",
      "metadata": {
        "colab": {
          "base_uri": "https://localhost:8080/"
        },
        "id": "bD2spjtinphc",
        "outputId": "cb1d1274-e4de-41c5-8758-44b50c97638b"
      },
      "source": [
        "spam_words_count = main_data[spam_indexes , 1:-1]\n",
        "ham_words_count = main_data[ham_indexes , 1:-1]\n",
        "\n",
        "len(spam_words_count) , len(ham_words_count)"
      ],
      "execution_count": null,
      "outputs": [
        {
          "output_type": "execute_result",
          "data": {
            "text/plain": [
              "(1500, 3672)"
            ]
          },
          "metadata": {
            "tags": []
          },
          "execution_count": 56
        }
      ]
    },
    {
      "cell_type": "markdown",
      "metadata": {
        "id": "wOjBDWv5tTl0"
      },
      "source": [
        "Define the percent of test and train data"
      ]
    },
    {
      "cell_type": "code",
      "metadata": {
        "id": "Oj7QB4PWqDSz"
      },
      "source": [
        "Vocabulary_size = 3000\n",
        "Validation_split = 0.25\n",
        "BAYES_SPLIT = 0.25\n",
        "NET_SPLIT = 0.25\n",
        "KNN_SPLIT = 0.25\n",
        "\n",
        "\n",
        "# test_spam_index = round( len(spam_words_count) * Validation_split )\n",
        "# test_ham_index = round( len(ham_words_count) * Validation_split )\n",
        "\n",
        "# test_spam_index , test_ham_index"
      ],
      "execution_count": null,
      "outputs": []
    },
    {
      "cell_type": "code",
      "metadata": {
        "id": "Dkb1J2vFm2Gf"
      },
      "source": [
        "validation_spam_count = round(len(spam_words_count) * Validation_split)\n",
        "bayes_spam_count = round(len(spam_words_count) * BAYES_SPLIT) + validation_spam_count\n",
        "net_spam_count = round(len(spam_words_count) * NET_SPLIT) + bayes_spam_count\n",
        "knn_spam_count = round(len(spam_words_count) * KNN_SPLIT) + net_spam_count\n",
        "\n",
        "validation_ham_count = round(len(ham_words_count) * Validation_split)\n",
        "bayes_ham_count = round(len(ham_words_count) * BAYES_SPLIT) + validation_ham_count\n",
        "net_ham_count = round(len(ham_words_count) * NET_SPLIT) + bayes_ham_count\n",
        "knn_ham_count = round(len(ham_words_count) * KNN_SPLIT) + net_ham_count"
      ],
      "execution_count": null,
      "outputs": []
    },
    {
      "cell_type": "markdown",
      "metadata": {
        "id": "oKksl02Suf4-"
      },
      "source": [
        "Split train and test data"
      ]
    },
    {
      "cell_type": "code",
      "metadata": {
        "colab": {
          "base_uri": "https://localhost:8080/"
        },
        "id": "jGoqLtECukRm",
        "outputId": "c6ee7606-26a2-4368-a1c6-2d0ef44bff26"
      },
      "source": [
        "train_spam = spam_words_count[validation_spam_count:bayes_spam_count]\n",
        "train_ham = ham_words_count[validation_ham_count:bayes_ham_count]\n",
        "\n",
        "test_spam = spam_words_count[:validation_spam_count]\n",
        "test_ham = ham_words_count[:validation_ham_count]\n",
        "\n",
        "len(train_spam) , len(test_spam) , len(train_ham) , len(test_ham)\n",
        "# train_spam"
      ],
      "execution_count": null,
      "outputs": [
        {
          "output_type": "execute_result",
          "data": {
            "text/plain": [
              "(375, 300, 918, 734)"
            ]
          },
          "metadata": {
            "tags": []
          },
          "execution_count": 59
        }
      ]
    },
    {
      "cell_type": "markdown",
      "metadata": {
        "id": "Sf23MCpFwggE"
      },
      "source": [
        "Count probablities of the spam and ham classes"
      ]
    },
    {
      "cell_type": "code",
      "metadata": {
        "colab": {
          "base_uri": "https://localhost:8080/"
        },
        "id": "_ca2UZ9YwqKk",
        "outputId": "6608c407-623e-41a8-cff9-a5b9a229ce4f"
      },
      "source": [
        "p_spam = len(train_spam) / (len(train_spam) + len(train_ham))\n",
        "p_ham = len(train_ham) / (len(train_spam) + len(train_ham))\n",
        "\n",
        "p_spam , p_ham"
      ],
      "execution_count": null,
      "outputs": [
        {
          "output_type": "execute_result",
          "data": {
            "text/plain": [
              "(0.2900232018561485, 0.7099767981438515)"
            ]
          },
          "metadata": {
            "tags": []
          },
          "execution_count": 60
        }
      ]
    },
    {
      "cell_type": "markdown",
      "metadata": {
        "id": "8LcpOwbdxiiP"
      },
      "source": [
        "Count the numbers of every word in the class"
      ]
    },
    {
      "cell_type": "code",
      "metadata": {
        "colab": {
          "base_uri": "https://localhost:8080/"
        },
        "id": "qQIcGdLxxoll",
        "outputId": "efd887b6-63c3-47f4-9b98-f674425e03f5"
      },
      "source": [
        "words_number_spam = np.sum(train_spam.transpose(),1)\n",
        "words_number_ham = np.sum(train_ham.transpose(),1)\n",
        "\n",
        "words_number_spam , words_number_ham"
      ],
      "execution_count": null,
      "outputs": [
        {
          "output_type": "execute_result",
          "data": {
            "text/plain": [
              "(array([1930, 2349, 895, ..., 1, 679, 4], dtype=object),\n",
              " array([5417, 4793, 7496, ..., 1, 693, 6], dtype=object))"
            ]
          },
          "metadata": {
            "tags": []
          },
          "execution_count": 61
        }
      ]
    },
    {
      "cell_type": "markdown",
      "metadata": {
        "id": "dEleej67y1GG"
      },
      "source": [
        "Count the numbers of all words in every class"
      ]
    },
    {
      "cell_type": "code",
      "metadata": {
        "colab": {
          "base_uri": "https://localhost:8080/"
        },
        "id": "EkwI_nbwy9S4",
        "outputId": "959ce9e6-46f4-44c9-b192-d892e30d3ee5"
      },
      "source": [
        "all_words_spam = np.sum(words_number_spam)\n",
        "all_words_ham = np.sum(words_number_ham)\n",
        "\n",
        "all_words_spam , all_words_ham"
      ],
      "execution_count": null,
      "outputs": [
        {
          "output_type": "execute_result",
          "data": {
            "text/plain": [
              "(532105, 914122)"
            ]
          },
          "metadata": {
            "tags": []
          },
          "execution_count": 62
        }
      ]
    },
    {
      "cell_type": "markdown",
      "metadata": {
        "id": "niRTNtuF0yqW"
      },
      "source": [
        "Count probablities of every words "
      ]
    },
    {
      "cell_type": "code",
      "metadata": {
        "id": "jq4Eqeia052m",
        "colab": {
          "base_uri": "https://localhost:8080/"
        },
        "outputId": "6682cb28-b6a8-4a71-97f0-d4260e8902d0"
      },
      "source": [
        "import math\n",
        "\n",
        "p_words_spam = -np.log(( words_number_spam.astype(float) + 1 ) / ( all_words_spam + Vocabulary_size ))\n",
        "p_words_ham = -np.log (( words_number_ham.astype(float) + 1 ) / ( all_words_ham + Vocabulary_size ))\n",
        "# p_words_spam = [-(math.log(i)) for i in p_words_spam]\n",
        "# p_words_ham = [-(math.log(i)) for i in p_words_ham]\n",
        "\n",
        "\n",
        "p_words_spam , p_words_ham"
      ],
      "execution_count": null,
      "outputs": [
        {
          "output_type": "execute_result",
          "data": {
            "text/plain": [
              "(array([ 5.62442499,  5.42804766,  6.39227786, ..., 12.49707109,\n",
              "         6.66812547, 11.58078036]),\n",
              " array([ 5.13151376,  5.25387537,  4.80673757, ..., 13.0358486 ,\n",
              "         7.18652382, 11.78308564]))"
            ]
          },
          "metadata": {
            "tags": []
          },
          "execution_count": 63
        }
      ]
    },
    {
      "cell_type": "markdown",
      "metadata": {
        "id": "U2vDjrMW2R6G"
      },
      "source": [
        "Test the model by test dataset"
      ]
    },
    {
      "cell_type": "code",
      "metadata": {
        "id": "rODBxRyx2YZ2"
      },
      "source": [
        "def predict(x):\n",
        "  subset_len = len(x)\n",
        "\n",
        "  p_temp_spam = np.tile(p_words_spam, (subset_len, 1))\n",
        "  p_temp_ham = np.tile(p_words_ham, (subset_len, 1))\n",
        "\n",
        "  estimate_spam = p_temp_spam * x\n",
        "  estimate_spam = np.sum(estimate_spam, 1) + np.log(p_spam)\n",
        "\n",
        "  estimate_ham = p_temp_ham * x\n",
        "  estimate_ham = np.sum(estimate_ham, 1) + np.log(p_ham)\n",
        "\n",
        "  return estimate_ham > estimate_spam"
      ],
      "execution_count": null,
      "outputs": []
    },
    {
      "cell_type": "code",
      "metadata": {
        "colab": {
          "base_uri": "https://localhost:8080/",
          "height": 123
        },
        "id": "aTHPGRx-5_LA",
        "outputId": "e2b0d5d1-d6d6-4e8b-c942-e6d0c404da27"
      },
      "source": [
        "predict_spam = predict(test_spam)\n",
        "\n",
        "TP = len(np.nonzero(predict_spam)[0])\n",
        "FN = len(test_spam) - TP\n",
        "\n",
        "predict_ham = predict(test_ham)\n",
        "\n",
        "FP = len(np.nonzero(predict_ham)[0])\n",
        "TN = len(test_ham) - FP\n",
        "\n",
        "print(\"Accuracy: \", (TP+TN) / (TP+TN+FP+FN))\n",
        "pd.DataFrame([[\"Spam\", TP, FN], [\"Ham\", FP, TN]], columns=[\"#\", \"Predict Spam\", \"Predict Ham\"])"
      ],
      "execution_count": null,
      "outputs": [
        {
          "output_type": "stream",
          "text": [
            "Accuracy:  0.9400386847195358\n"
          ],
          "name": "stdout"
        },
        {
          "output_type": "execute_result",
          "data": {
            "text/html": [
              "<div>\n",
              "<style scoped>\n",
              "    .dataframe tbody tr th:only-of-type {\n",
              "        vertical-align: middle;\n",
              "    }\n",
              "\n",
              "    .dataframe tbody tr th {\n",
              "        vertical-align: top;\n",
              "    }\n",
              "\n",
              "    .dataframe thead th {\n",
              "        text-align: right;\n",
              "    }\n",
              "</style>\n",
              "<table border=\"1\" class=\"dataframe\">\n",
              "  <thead>\n",
              "    <tr style=\"text-align: right;\">\n",
              "      <th></th>\n",
              "      <th>#</th>\n",
              "      <th>Predict Spam</th>\n",
              "      <th>Predict Ham</th>\n",
              "    </tr>\n",
              "  </thead>\n",
              "  <tbody>\n",
              "    <tr>\n",
              "      <th>0</th>\n",
              "      <td>Spam</td>\n",
              "      <td>288</td>\n",
              "      <td>12</td>\n",
              "    </tr>\n",
              "    <tr>\n",
              "      <th>1</th>\n",
              "      <td>Ham</td>\n",
              "      <td>50</td>\n",
              "      <td>684</td>\n",
              "    </tr>\n",
              "  </tbody>\n",
              "</table>\n",
              "</div>"
            ],
            "text/plain": [
              "      #  Predict Spam  Predict Ham\n",
              "0  Spam           288           12\n",
              "1   Ham            50          684"
            ]
          },
          "metadata": {
            "tags": []
          },
          "execution_count": 65
        }
      ]
    },
    {
      "cell_type": "markdown",
      "metadata": {
        "id": "SRX-g2llbJ5V"
      },
      "source": [
        "Define a neural network model"
      ]
    },
    {
      "cell_type": "code",
      "metadata": {
        "colab": {
          "base_uri": "https://localhost:8080/"
        },
        "id": "gMNkElUaUkuL",
        "outputId": "3945eae4-6bc4-44d7-a1a7-62f4356a00e7"
      },
      "source": [
        "from keras.models import Sequential\n",
        "from keras.layers import Dense, Input, Dropout\n",
        "\n",
        "model = Sequential()\n",
        "model.add(Input(3000))\n",
        "model.add(Dense(256 , activation=\"relu\"))\n",
        "model.add(Dense(128 , activation=\"relu\"))\n",
        "model.add(Dense(1 , activation=\"sigmoid\"))\n",
        "\n",
        "model.compile( loss=\"binary_crossentropy\" , optimizer=\"adam\" , metrics=[\"accuracy\"])\n",
        "model.summary()\n"
      ],
      "execution_count": null,
      "outputs": [
        {
          "output_type": "stream",
          "text": [
            "Model: \"sequential_3\"\n",
            "_________________________________________________________________\n",
            "Layer (type)                 Output Shape              Param #   \n",
            "=================================================================\n",
            "dense_9 (Dense)              (None, 256)               768256    \n",
            "_________________________________________________________________\n",
            "dense_10 (Dense)             (None, 128)               32896     \n",
            "_________________________________________________________________\n",
            "dense_11 (Dense)             (None, 1)                 129       \n",
            "=================================================================\n",
            "Total params: 801,281\n",
            "Trainable params: 801,281\n",
            "Non-trainable params: 0\n",
            "_________________________________________________________________\n"
          ],
          "name": "stdout"
        }
      ]
    },
    {
      "cell_type": "code",
      "metadata": {
        "id": "EUEm0Gc8cxzX"
      },
      "source": [
        "train_spam = spam_words_count[bayes_spam_count:net_spam_count]\n",
        "train_ham = ham_words_count[bayes_ham_count:net_ham_count]\n",
        "\n",
        "test_spam = spam_words_count[:validation_spam_count]\n",
        "test_ham = ham_words_count[:validation_ham_count]\n",
        "\n",
        "\n",
        "X_train = np.concatenate([train_spam,train_ham]).astype('float')\n",
        "Y_train = np.concatenate([ np.ones(len(train_spam)) , np.zeros(len(train_ham))])\n",
        "\n",
        "X_test = np.concatenate([test_spam,test_ham]).astype('float')\n",
        "Y_test = np.concatenate([ np.ones(len(test_spam)) , np.zeros(len(test_ham))])\n"
      ],
      "execution_count": null,
      "outputs": []
    },
    {
      "cell_type": "code",
      "metadata": {
        "colab": {
          "base_uri": "https://localhost:8080/"
        },
        "id": "94xcY-bxdxXd",
        "outputId": "954ebef5-ed3c-43ce-ac51-7339dfe41d30"
      },
      "source": [
        "history = model.fit( X_train,Y_train , epochs=10 , batch_size=128 , validation_data=(X_test,Y_test))"
      ],
      "execution_count": null,
      "outputs": [
        {
          "output_type": "stream",
          "text": [
            "Epoch 1/10\n",
            "11/11 [==============================] - 1s 35ms/step - loss: 1.2778 - accuracy: 0.6584 - val_loss: 0.5041 - val_accuracy: 0.8250\n",
            "Epoch 2/10\n",
            "11/11 [==============================] - 0s 25ms/step - loss: 0.3969 - accuracy: 0.8073 - val_loss: 0.5101 - val_accuracy: 0.8617\n",
            "Epoch 3/10\n",
            "11/11 [==============================] - 0s 20ms/step - loss: 0.2484 - accuracy: 0.9059 - val_loss: 0.4132 - val_accuracy: 0.9023\n",
            "Epoch 4/10\n",
            "11/11 [==============================] - 0s 21ms/step - loss: 0.2061 - accuracy: 0.9353 - val_loss: 0.1954 - val_accuracy: 0.9333\n",
            "Epoch 5/10\n",
            "11/11 [==============================] - 0s 21ms/step - loss: 0.1399 - accuracy: 0.9499 - val_loss: 0.1453 - val_accuracy: 0.9632\n",
            "Epoch 6/10\n",
            "11/11 [==============================] - 0s 20ms/step - loss: 0.0968 - accuracy: 0.9822 - val_loss: 0.1760 - val_accuracy: 0.9536\n",
            "Epoch 7/10\n",
            "11/11 [==============================] - 0s 21ms/step - loss: 0.0617 - accuracy: 0.9854 - val_loss: 0.1138 - val_accuracy: 0.9710\n",
            "Epoch 8/10\n",
            "11/11 [==============================] - 0s 21ms/step - loss: 0.0498 - accuracy: 0.9926 - val_loss: 0.1209 - val_accuracy: 0.9720\n",
            "Epoch 9/10\n",
            "11/11 [==============================] - 0s 21ms/step - loss: 0.0295 - accuracy: 0.9978 - val_loss: 0.1051 - val_accuracy: 0.9710\n",
            "Epoch 10/10\n",
            "11/11 [==============================] - 0s 21ms/step - loss: 0.0180 - accuracy: 1.0000 - val_loss: 0.2302 - val_accuracy: 0.9536\n"
          ],
          "name": "stdout"
        }
      ]
    },
    {
      "cell_type": "markdown",
      "metadata": {
        "id": "qNciDmLk3T6S"
      },
      "source": [
        "The accuracy and validation diagrams"
      ]
    },
    {
      "cell_type": "code",
      "metadata": {
        "colab": {
          "base_uri": "https://localhost:8080/",
          "height": 514
        },
        "id": "jwSaWgIqe0-9",
        "outputId": "2cde7991-a0ed-497f-d28a-a9e653eaa91b"
      },
      "source": [
        "import matplotlib.pyplot as plt\n",
        "\n",
        "plt.plot(history.history['accuracy'])\n",
        "plt.plot(history.history['loss'])\n",
        "plt.show()\n",
        "\n",
        "plt.plot(history.history['val_accuracy'])\n",
        "plt.plot(history.history['val_loss'])\n",
        "plt.show()\n"
      ],
      "execution_count": null,
      "outputs": [
        {
          "output_type": "display_data",
          "data": {
            "image/png": "[encoded data removed]",
            "text/plain": [
              "<Figure size 432x288 with 1 Axes>"
            ]
          },
          "metadata": {
            "tags": [],
            "needs_background": "light"
          }
        },
        {
          "output_type": "display_data",
          "data": {
            "image/png": "[encoded data removed]",
            "text/plain": [
              "<Figure size 432x288 with 1 Axes>"
            ]
          },
          "metadata": {
            "tags": [],
            "needs_background": "light"
          }
        }
      ]
    },
    {
      "cell_type": "markdown",
      "metadata": {
        "id": "otSiFGHTKCyV"
      },
      "source": [
        "Define the KNN model"
      ]
    },
    {
      "cell_type": "code",
      "metadata": {
        "id": "wVsY_13zoLPQ"
      },
      "source": [
        "train_spam = spam_words_count[net_spam_count:knn_spam_count]\n",
        "train_ham = ham_words_count[net_ham_count:knn_ham_count]\n",
        "\n",
        "test_spam = spam_words_count[:validation_spam_count]\n",
        "test_ham = ham_words_count[:validation_ham_count]\n",
        "\n",
        "\n",
        "X_train = np.concatenate([train_spam,train_ham]).astype('float')\n",
        "Y_train = np.concatenate([ np.ones(len(train_spam)) , np.zeros(len(train_ham))])\n",
        "\n",
        "X_test = np.concatenate([test_spam,test_ham]).astype('float')\n",
        "Y_test = np.concatenate([ np.ones(len(test_spam)) , np.zeros(len(test_ham))])\n"
      ],
      "execution_count": null,
      "outputs": []
    },
    {
      "cell_type": "code",
      "metadata": {
        "id": "Au3N15VhKF_N"
      },
      "source": [
        "k=3\n",
        "\n",
        "def distance(x1,x2):\n",
        "  return sum(abs(x1-x2))\n",
        "\n",
        "def KNN(t):\n",
        "  D = np.zeros(len(X_train))\n",
        "\n",
        "  for i , d in enumerate(X_train):\n",
        "    D[i] = distance(d,t)\n",
        "  \n",
        "  temp = np.sort(D)[0:k]\n",
        "  N = [ np.nonzero(D == i)[0][0] for i in temp]\n",
        "\n",
        "  if sum(Y_train[N]) > k/2:\n",
        "    return 1\n",
        "  else:\n",
        "    return 0\n"
      ],
      "execution_count": null,
      "outputs": []
    },
    {
      "cell_type": "markdown",
      "metadata": {
        "id": "FZyKM14APclW"
      },
      "source": [
        "Test the KNN"
      ]
    },
    {
      "cell_type": "code",
      "metadata": {
        "colab": {
          "base_uri": "https://localhost:8080/"
        },
        "id": "WP15B0MbMhGV",
        "outputId": "ed7eb1ae-94e9-4a81-bb87-183b5e6253cf"
      },
      "source": [
        "KNN(X_test[10]) , Y_test[10]\n"
      ],
      "execution_count": null,
      "outputs": [
        {
          "output_type": "execute_result",
          "data": {
            "text/plain": [
              "(1, 1.0)"
            ]
          },
          "metadata": {
            "tags": []
          },
          "execution_count": 82
        }
      ]
    },
    {
      "cell_type": "markdown",
      "metadata": {
        "id": "kGhH2xiqPj-u"
      },
      "source": [
        "Count KNN for a set"
      ]
    },
    {
      "cell_type": "code",
      "metadata": {
        "id": "AOvxoRt0PpKG"
      },
      "source": [
        "def set_KNN(subset):\n",
        "  new_set = np.zeros(len(subset))\n",
        "  for i , d in enumerate(subset):\n",
        "    new_set[i] = KNN(d)\n",
        "\n",
        "  return new_set"
      ],
      "execution_count": null,
      "outputs": []
    },
    {
      "cell_type": "markdown",
      "metadata": {
        "id": "8SHegBryog76"
      },
      "source": [
        "Accuracy of KNN"
      ]
    },
    {
      "cell_type": "code",
      "metadata": {
        "colab": {
          "base_uri": "https://localhost:8080/"
        },
        "id": "m4iTw4Syojnr",
        "outputId": "32f9d9b4-1137-40e4-9e25-9a6758a64e40"
      },
      "source": [
        "result = set_KNN(X_test)\n",
        "accuracy = len(np.nonzero( result == Y_test)[0]) / len(Y_test)\n",
        "accuracy"
      ],
      "execution_count": null,
      "outputs": [
        {
          "output_type": "execute_result",
          "data": {
            "text/plain": [
              "0.7988394584139265"
            ]
          },
          "metadata": {
            "tags": []
          },
          "execution_count": 84
        }
      ]
    },
    {
      "cell_type": "markdown",
      "metadata": {
        "id": "RYJtcYrkFNe5"
      },
      "source": [
        "Define ensemble model by merge 3 models"
      ]
    },
    {
      "cell_type": "code",
      "metadata": {
        "id": "sEBoaYBCFRqf"
      },
      "source": [
        "def ensemble(x):\n",
        "\n",
        "  out1 = model.predict(x) #neural netwrok\n",
        "  out2 = predict(x) #beysian\n",
        "  out3 = set_KNN(x) #knn\n",
        "\n",
        "  out1 = np.round(out1)[:,0]\n",
        "  out2 = [1 if i else 0 for i in out2]\n",
        "  out3 = np.array(out3)\n",
        "  output = out1 + out2 + out3 > 1\n",
        "\n",
        "  return output"
      ],
      "execution_count": null,
      "outputs": []
    },
    {
      "cell_type": "markdown",
      "metadata": {
        "id": "hMDP6GCsHk-q"
      },
      "source": [
        "Test ensemble"
      ]
    },
    {
      "cell_type": "code",
      "metadata": {
        "id": "AtNeg_DEHn6J"
      },
      "source": [
        "result = ensemble(X_test)\n"
      ],
      "execution_count": null,
      "outputs": []
    },
    {
      "cell_type": "markdown",
      "metadata": {
        "id": "Ig5_xTMYI8oh"
      },
      "source": [
        "Accuracy of ensemble model"
      ]
    },
    {
      "cell_type": "code",
      "metadata": {
        "colab": {
          "base_uri": "https://localhost:8080/"
        },
        "id": "mE8PJ21pI_3R",
        "outputId": "b592bc61-f85a-4526-8fa9-f5834dd4f9c7"
      },
      "source": [
        "accuracy = len(np.nonzero( result == Y_test)[0]) / len(Y_test)\n",
        "accuracy"
      ],
      "execution_count": null,
      "outputs": [
        {
          "output_type": "execute_result",
          "data": {
            "text/plain": [
              "0.9468085106382979"
            ]
          },
          "metadata": {
            "tags": []
          },
          "execution_count": 87
        }
      ]
    }
  ]
}